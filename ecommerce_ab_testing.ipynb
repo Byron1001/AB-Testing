{
 "cells": [
  {
   "cell_type": "markdown",
   "metadata": {},
   "source": [
    "# Introduction\n",
    "The company has developed a new webpage to increase the number of paying users for their product. They are conducting an AB test to see the results of this new page. \n",
    "- Two equally-sized groups are created as control and treatment groups, labeled A and B. \n",
    "- The treatment group (B) is presented with the new webpage while the control group (A) is presented with the old one, and the experiment is run. \n",
    "\n",
    "Data is collected for both groups, and then hypothesis testing is applied to determine if the difference is significant or not."
   ]
  },
  {
   "cell_type": "markdown",
   "metadata": {
    "vscode": {
     "languageId": "plaintext"
    }
   },
   "source": [
    "# Hypothesis\n",
    "\n",
    "- **H0**: There is not statistically significant difference between the old page and new page\n",
    "- **H1**: There is statistically significant difference between the old page and new page\n",
    "\n",
    "- - H₀ (Null Hypothesis): The data (all metrics value of both the page) follows a normal distribution, equal variance, proceed with parametric tests (eg. t-test, dependent t-test), which assume normality.\n",
    "- - H₁ (Alternative Hypothesis): The data does not follow a normal distribution or not equal variance. use a non-parametric test that does not assume normality.\n",
    "\n",
    "- - If p-value < 0.05 = significant -> **non-parametric test** (mannwhitneyu test) ELSE not significant -> **parametric test** (t-test, ANOVA, linear regression)\n",
    "\n",
    "<quotes> When to use ANOVA:\n",
    "\n",
    "When comparing the means of three or more groups.\n",
    "When you have one or more independent variables (factors) and want to see if they significantly affect the outcome.\n",
    "When investigating potential interactions between multiple factors (in the case of two-way ANOVA).\n",
    "\n",
    "**Post-hoc Tests** for ANOVA:\n",
    "\n",
    "If ANOVA finds a significant difference among the groups, it doesn't tell you which groups are different. To find this out, you need to perform post-hoc tests (e.g., Tukey's HSD) to make pairwise comparisons between groups.\n",
    "</quotes>"
   ]
  },
  {
   "cell_type": "markdown",
   "metadata": {},
   "source": [
    "# Parametric tests\n",
    "- **Non-parametric test** \n",
    "- - Mann-Whitney U test\n",
    "- - Wilcoxon Signed-Rank test\n",
    "- - Kruskal-Wallis H test\n",
    "- - Friedman test\n",
    "- - Spearman's Rank Correlation\n",
    "- - Chi-Square test\n",
    "<br><br>\n",
    "- **Parametric test** \n",
    "- - t-test\n",
    "- - Welch's t-test\n",
    "- - ANOVA\n",
    "- - Pearson Correlation\n",
    "- - linear regression\n",
    "<br><br>\n",
    "- **Summary Table**\n",
    "\n",
    "| Test Type                | Parametric Tests                          | Non-Parametric Tests                      |\n",
    "|--------------------------|-------------------------------------------|-------------------------------------------|\n",
    "| **Comparing Means**      | One-sample t-test                         | Wilcoxon Signed-Rank test                 |\n",
    "|                          | Independent two-sample t-test             | Mann-Whitney U test                       |\n",
    "|                          | Paired t-test                             | Wilcoxon Signed-Rank test                 |\n",
    "|                          | One-way ANOVA                             | Kruskal-Wallis H test                     |\n",
    "|                          | Two-way ANOVA                             | Friedman test                             |\n",
    "| **Correlation**          | Pearson Correlation                       | Spearman's Rank Correlation               |\n",
    "| **Regression**           | Linear Regression                         | -                                         |\n",
    "| **Variance**             | Bartlett's Test, Levene's Test            | Fligner-Killeen Test                      |\n",
    "| **Categorical Data**     | -                                         | Chi-Square Test                           |"
   ]
  },
  {
   "cell_type": "markdown",
   "metadata": {},
   "source": [
    "# Normality Assumption\n",
    "- **Checking** normality for statistical testing later\n",
    "- - histogram\n",
    "- - QQPlot\n",
    "- - Shapiro-Wilk Test with p > 0.05 = normal distributed\n",
    "\n",
    "- Data should follow normal distribution (symmetric, p > 0.05) for **parametric test**\n",
    "- If not normal distributed (p < 0.05) -> **transformation / non-parametric test**"
   ]
  },
  {
   "cell_type": "markdown",
   "metadata": {},
   "source": [
    "# Variance Homogeneity\n",
    "- Making sure all the dependent variables has same variance for statistical testing later\n",
    "- H0: Variances are homogeneous\n",
    "- H1: Variances are not homogeneous\n",
    "\n",
    "- **Checking**\n",
    "- - Levene's Test: if p > 0.05 = Equal Variance\n",
    "- - Residual Plots: if increase or decrease systematically = non-equal variance (heteroscedasticity)\n",
    "- - Bartlett's Test: Sensitive to non-normality, not used to test while non-normalized, evaluate using **Chi-square test**\n",
    "- - Fligner-Killeen Test: can used when non-normalized\n",
    "\n",
    "- **If not equal variance**\n",
    "- - Robust non-parametric test methods for non-equal variance: eg. Welch's t-test, GLM (Generalized Linear model)\n",
    "- - Transformation: log etc.\n",
    "- - Weighted least square (WLS)\n",
    "\n",
    "- **If equal variance**\n",
    "- - use parametric test"
   ]
  },
  {
   "cell_type": "markdown",
   "metadata": {},
   "source": [
    "# Data Ingestion and Libaries Import"
   ]
  },
  {
   "cell_type": "code",
   "execution_count": 32,
   "metadata": {},
   "outputs": [],
   "source": [
    "import pandas as pd\n",
    "import numpy as np\n",
    "import matplotlib.pyplot as plt\n",
    "import seaborn as sns\n",
    "import statsmodels.api as sms\n",
    "from scipy.stats import shapiro, levene, mannwhitneyu\n",
    "\n",
    "import warnings\n",
    "warnings.filterwarnings('ignore')\n",
    "\n",
    "ab_df = pd.read_csv('./ecommerce_ab_testing_2022_dataset1/ab_data.csv')\n",
    "countries_df = pd.read_csv('./ecommerce_ab_testing_2022_dataset1/countries.csv')"
   ]
  },
  {
   "cell_type": "markdown",
   "metadata": {},
   "source": [
    "# EDA"
   ]
  },
  {
   "cell_type": "code",
   "execution_count": 33,
   "metadata": {},
   "outputs": [
    {
     "name": "stdout",
     "output_type": "stream",
     "text": [
      "<class 'pandas.core.frame.DataFrame'>\n",
      "RangeIndex: 294480 entries, 0 to 294479\n",
      "Data columns (total 5 columns):\n",
      " #   Column        Non-Null Count   Dtype \n",
      "---  ------        --------------   ----- \n",
      " 0   user_id       294480 non-null  int64 \n",
      " 1   timestamp     294480 non-null  object\n",
      " 2   group         294480 non-null  object\n",
      " 3   landing_page  294480 non-null  object\n",
      " 4   converted     294480 non-null  int64 \n",
      "dtypes: int64(2), object(3)\n",
      "memory usage: 11.2+ MB\n"
     ]
    }
   ],
   "source": [
    "ab_df.info()"
   ]
  },
  {
   "cell_type": "code",
   "execution_count": 34,
   "metadata": {},
   "outputs": [
    {
     "data": {
      "text/html": [
       "<div>\n",
       "<style scoped>\n",
       "    .dataframe tbody tr th:only-of-type {\n",
       "        vertical-align: middle;\n",
       "    }\n",
       "\n",
       "    .dataframe tbody tr th {\n",
       "        vertical-align: top;\n",
       "    }\n",
       "\n",
       "    .dataframe thead th {\n",
       "        text-align: right;\n",
       "    }\n",
       "</style>\n",
       "<table border=\"1\" class=\"dataframe\">\n",
       "  <thead>\n",
       "    <tr style=\"text-align: right;\">\n",
       "      <th></th>\n",
       "      <th>user_id</th>\n",
       "      <th>timestamp</th>\n",
       "      <th>group</th>\n",
       "      <th>landing_page</th>\n",
       "      <th>converted</th>\n",
       "    </tr>\n",
       "  </thead>\n",
       "  <tbody>\n",
       "    <tr>\n",
       "      <th>0</th>\n",
       "      <td>851104</td>\n",
       "      <td>11:48.6</td>\n",
       "      <td>control</td>\n",
       "      <td>old_page</td>\n",
       "      <td>0</td>\n",
       "    </tr>\n",
       "    <tr>\n",
       "      <th>1</th>\n",
       "      <td>804228</td>\n",
       "      <td>01:45.2</td>\n",
       "      <td>control</td>\n",
       "      <td>old_page</td>\n",
       "      <td>0</td>\n",
       "    </tr>\n",
       "    <tr>\n",
       "      <th>2</th>\n",
       "      <td>661590</td>\n",
       "      <td>55:06.2</td>\n",
       "      <td>treatment</td>\n",
       "      <td>new_page</td>\n",
       "      <td>0</td>\n",
       "    </tr>\n",
       "    <tr>\n",
       "      <th>3</th>\n",
       "      <td>853541</td>\n",
       "      <td>28:03.1</td>\n",
       "      <td>treatment</td>\n",
       "      <td>new_page</td>\n",
       "      <td>0</td>\n",
       "    </tr>\n",
       "    <tr>\n",
       "      <th>4</th>\n",
       "      <td>864975</td>\n",
       "      <td>52:26.2</td>\n",
       "      <td>control</td>\n",
       "      <td>old_page</td>\n",
       "      <td>1</td>\n",
       "    </tr>\n",
       "  </tbody>\n",
       "</table>\n",
       "</div>"
      ],
      "text/plain": [
       "   user_id timestamp      group landing_page  converted\n",
       "0   851104   11:48.6    control     old_page          0\n",
       "1   804228   01:45.2    control     old_page          0\n",
       "2   661590   55:06.2  treatment     new_page          0\n",
       "3   853541   28:03.1  treatment     new_page          0\n",
       "4   864975   52:26.2    control     old_page          1"
      ]
     },
     "execution_count": 34,
     "metadata": {},
     "output_type": "execute_result"
    }
   ],
   "source": [
    "ab_df.head()"
   ]
  },
  {
   "cell_type": "code",
   "execution_count": 35,
   "metadata": {},
   "outputs": [
    {
     "data": {
      "text/plain": [
       "user_id         290585\n",
       "timestamp        35993\n",
       "group                2\n",
       "landing_page         2\n",
       "converted            2\n",
       "dtype: int64"
      ]
     },
     "execution_count": 35,
     "metadata": {},
     "output_type": "execute_result"
    }
   ],
   "source": [
    "# Unique values for each attribute\n",
    "ab_df.apply(lambda x: x.nunique())"
   ]
  },
  {
   "cell_type": "code",
   "execution_count": 36,
   "metadata": {},
   "outputs": [
    {
     "data": {
      "text/plain": [
       "user_id         0\n",
       "timestamp       0\n",
       "group           0\n",
       "landing_page    0\n",
       "converted       0\n",
       "dtype: int64"
      ]
     },
     "execution_count": 36,
     "metadata": {},
     "output_type": "execute_result"
    }
   ],
   "source": [
    "# Check for missing values\n",
    "ab_df.isnull().sum()"
   ]
  },
  {
   "cell_type": "code",
   "execution_count": 37,
   "metadata": {},
   "outputs": [
    {
     "data": {
      "text/plain": [
       "(294480, 5)"
      ]
     },
     "execution_count": 37,
     "metadata": {},
     "output_type": "execute_result"
    }
   ],
   "source": [
    "ab_df.shape"
   ]
  },
  {
   "cell_type": "code",
   "execution_count": 38,
   "metadata": {},
   "outputs": [
    {
     "data": {
      "text/plain": [
       "(286690, 5)"
      ]
     },
     "execution_count": 38,
     "metadata": {},
     "output_type": "execute_result"
    }
   ],
   "source": [
    "# keep the first of each duplicates only\n",
    "# ab_df.drop_duplicates(subset='user_id', keep='first', inplace=True)\n",
    "ab_df.drop_duplicates(subset='user_id', keep=False, inplace=True)\n",
    "ab_df.shape"
   ]
  },
  {
   "cell_type": "code",
   "execution_count": 39,
   "metadata": {},
   "outputs": [
    {
     "data": {
      "text/html": [
       "<div>\n",
       "<style scoped>\n",
       "    .dataframe tbody tr th:only-of-type {\n",
       "        vertical-align: middle;\n",
       "    }\n",
       "\n",
       "    .dataframe tbody tr th {\n",
       "        vertical-align: top;\n",
       "    }\n",
       "\n",
       "    .dataframe thead th {\n",
       "        text-align: right;\n",
       "    }\n",
       "</style>\n",
       "<table border=\"1\" class=\"dataframe\">\n",
       "  <thead>\n",
       "    <tr style=\"text-align: right;\">\n",
       "      <th></th>\n",
       "      <th></th>\n",
       "      <th>user_id</th>\n",
       "    </tr>\n",
       "    <tr>\n",
       "      <th>group</th>\n",
       "      <th>landing_page</th>\n",
       "      <th></th>\n",
       "    </tr>\n",
       "  </thead>\n",
       "  <tbody>\n",
       "    <tr>\n",
       "      <th>control</th>\n",
       "      <th>old_page</th>\n",
       "      <td>143293</td>\n",
       "    </tr>\n",
       "    <tr>\n",
       "      <th>treatment</th>\n",
       "      <th>new_page</th>\n",
       "      <td>143397</td>\n",
       "    </tr>\n",
       "  </tbody>\n",
       "</table>\n",
       "</div>"
      ],
      "text/plain": [
       "                        user_id\n",
       "group     landing_page         \n",
       "control   old_page       143293\n",
       "treatment new_page       143397"
      ]
     },
     "execution_count": 39,
     "metadata": {},
     "output_type": "execute_result"
    }
   ],
   "source": [
    "# counting the number of users in each group\n",
    "ab_df.groupby(['group', 'landing_page']).agg({'user_id': 'count'})"
   ]
  },
  {
   "cell_type": "code",
   "execution_count": 40,
   "metadata": {},
   "outputs": [
    {
     "data": {
      "text/html": [
       "<div>\n",
       "<style scoped>\n",
       "    .dataframe tbody tr th:only-of-type {\n",
       "        vertical-align: middle;\n",
       "    }\n",
       "\n",
       "    .dataframe tbody tr th {\n",
       "        vertical-align: top;\n",
       "    }\n",
       "\n",
       "    .dataframe thead th {\n",
       "        text-align: right;\n",
       "    }\n",
       "</style>\n",
       "<table border=\"1\" class=\"dataframe\">\n",
       "  <thead>\n",
       "    <tr style=\"text-align: right;\">\n",
       "      <th></th>\n",
       "      <th></th>\n",
       "      <th>converted</th>\n",
       "    </tr>\n",
       "    <tr>\n",
       "      <th>group</th>\n",
       "      <th>landing_page</th>\n",
       "      <th></th>\n",
       "    </tr>\n",
       "  </thead>\n",
       "  <tbody>\n",
       "    <tr>\n",
       "      <th>control</th>\n",
       "      <th>old_page</th>\n",
       "      <td>0.120173</td>\n",
       "    </tr>\n",
       "    <tr>\n",
       "      <th>treatment</th>\n",
       "      <th>new_page</th>\n",
       "      <td>0.118726</td>\n",
       "    </tr>\n",
       "  </tbody>\n",
       "</table>\n",
       "</div>"
      ],
      "text/plain": [
       "                        converted\n",
       "group     landing_page           \n",
       "control   old_page       0.120173\n",
       "treatment new_page       0.118726"
      ]
     },
     "execution_count": 40,
     "metadata": {},
     "output_type": "execute_result"
    }
   ],
   "source": [
    "# counting the average conversion rate in each group\n",
    "ab_df.groupby(['group', 'landing_page']).agg({'converted': 'mean'})"
   ]
  },
  {
   "cell_type": "code",
   "execution_count": 41,
   "metadata": {},
   "outputs": [
    {
     "data": {
      "text/plain": [
       "landing_page\n",
       "new_page    0.500181\n",
       "old_page    0.499819\n",
       "Name: proportion, dtype: float64"
      ]
     },
     "execution_count": 41,
     "metadata": {},
     "output_type": "execute_result"
    }
   ],
   "source": [
    "# Percentage of new page and old page\n",
    "ab_df['landing_page'].value_counts(normalize=True)"
   ]
  },
  {
   "cell_type": "code",
   "execution_count": 42,
   "metadata": {},
   "outputs": [
    {
     "data": {
      "text/plain": [
       "group\n",
       "treatment    0.500181\n",
       "control      0.499819\n",
       "Name: proportion, dtype: float64"
      ]
     },
     "execution_count": 42,
     "metadata": {},
     "output_type": "execute_result"
    }
   ],
   "source": [
    "# Percentage of control and treatment group\n",
    "ab_df['group'].value_counts(normalize=True)"
   ]
  },
  {
   "cell_type": "code",
   "execution_count": 43,
   "metadata": {},
   "outputs": [
    {
     "name": "stdout",
     "output_type": "stream",
     "text": [
      "Empty DataFrame\n",
      "Columns: [user_id, timestamp, group, landing_page, converted]\n",
      "Index: []\n",
      "\n",
      "   user_id timestamp      group landing_page  converted\n",
      "2   661590   55:06.2  treatment     new_page          0\n",
      "3   853541   28:03.1  treatment     new_page          0\n",
      "6   679687   26:46.9  treatment     new_page          1\n",
      "8   817355   58:09.0  treatment     new_page          1\n",
      "9   839785   11:06.6  treatment     new_page          1\n",
      "\n",
      "   user_id timestamp    group landing_page  converted\n",
      "0   851104   11:48.6  control     old_page          0\n",
      "1   804228   01:45.2  control     old_page          0\n",
      "4   864975   52:26.2  control     old_page          1\n",
      "5   936923   20:49.1  control     old_page          0\n",
      "7   719014   48:29.5  control     old_page          0\n",
      "\n",
      "Empty DataFrame\n",
      "Columns: [user_id, timestamp, group, landing_page, converted]\n",
      "Index: []\n"
     ]
    }
   ],
   "source": [
    "# Cross check for group and landing page types to see if got any mutual exclusivity\n",
    "print(ab_df[(ab_df['group'] == 'treatment') & (ab_df['landing_page'] == 'old_page')].head())\n",
    "print()\n",
    "print(ab_df[(ab_df['group'] == 'treatment') & (ab_df['landing_page'] == 'new_page')].head())\n",
    "print()\n",
    "print(ab_df[(ab_df['group'] == 'control') & (ab_df['landing_page'] == 'old_page')].head())\n",
    "print()\n",
    "print(ab_df[(ab_df['group'] == 'control') & (ab_df['landing_page'] == 'new_page')].head())"
   ]
  },
  {
   "cell_type": "markdown",
   "metadata": {},
   "source": [
    "# Normality Testing"
   ]
  },
  {
   "cell_type": "markdown",
   "metadata": {},
   "source": [
    "Normality Assumption\n",
    "- H0: The assumption of normal distribution is provided\n",
    "- H1: The assumption of normal distribution is not provided\n",
    "\n",
    "- If the p-value is less than 0.05, it is considered significant and a non-parametric test (mannwhitneyu test) will be used. Else a parametric test (t-test)"
   ]
  },
  {
   "cell_type": "markdown",
   "metadata": {},
   "source": [
    "## Shapiro-Wilk Test"
   ]
  },
  {
   "cell_type": "code",
   "execution_count": 44,
   "metadata": {},
   "outputs": [
    {
     "name": "stdout",
     "output_type": "stream",
     "text": [
      "Old page conversion number teststat: 0.3792334794998169, p_value: 0.0\n",
      "New page conversion number teststat: 0.37685757875442505, p_value: 0.0\n",
      "Null hypothesis is rejected, data is not normally distributed.\n",
      "Both old and new page conversion numbers are not normally distributed, use non-parametric tests\n"
     ]
    }
   ],
   "source": [
    "# ab_df.loc[ab_df['landing_page'] == 'old_page', 'converted']\n",
    "teststat_old, p_value_old = shapiro(ab_df.loc[ab_df['landing_page'] == 'old_page']['converted'])\n",
    "print(f'Old page conversion number teststat: {teststat_old}, p_value: {p_value_old}')\n",
    "\n",
    "teststat_new, p_value_new = shapiro(ab_df.loc[ab_df['landing_page'] == 'new_page']['converted'])\n",
    "print(f'New page conversion number teststat: {teststat_new}, p_value: {p_value_new}')\n",
    "\n",
    "if p_value_old > 0.05 and p_value_new > 0.05:\n",
    "    print('Null hypothesis is not rejected, data is normally distributed.')\n",
    "    print('Both old and new page conversion numbers are normally distributed, use parametric tests')\n",
    "else:\n",
    "    print('Null hypothesis is rejected, data is not normally distributed.')\n",
    "    if p_value_old < 0.05 and p_value_new < 0.05:\n",
    "        print('Both old and new page conversion numbers are not normally distributed, use non-parametric tests') \n",
    "    elif p_value_old < 0.05:\n",
    "        print('Old page conversion numbers are not normally distributed, use non-parametric tests')\n",
    "    else:\n",
    "        print('New page conversion numbers are not normally distributed, use non-parametric tests')"
   ]
  },
  {
   "cell_type": "markdown",
   "metadata": {},
   "source": [
    "## Histogram"
   ]
  },
  {
   "cell_type": "code",
   "execution_count": 45,
   "metadata": {},
   "outputs": [
    {
     "data": {
      "image/png": "[encoded data removed]",
      "text/plain": [
       "<Figure size 1200x600 with 2 Axes>"
      ]
     },
     "metadata": {},
     "output_type": "display_data"
    }
   ],
   "source": [
    "# Histogram of conversion numbers\n",
    "fig, ax = plt.subplots(1, 2, figsize=(12, 6))\n",
    "\n",
    "sns.histplot(ab_df.loc[ab_df['landing_page'] == 'old_page']['converted'], kde=True, ax=ax[0])\n",
    "ax[0].set_title('Old Page Conversion Numbers')\n",
    "\n",
    "sns.histplot(ab_df.loc[ab_df['landing_page'] == 'new_page']['converted'], kde=True, ax=ax[1])\n",
    "ax[1].set_title('New Page Conversion Numbers')\n",
    "\n",
    "plt.tight_layout()\n",
    "plt.show()"
   ]
  },
  {
   "cell_type": "markdown",
   "metadata": {},
   "source": [
    "## QQPlot"
   ]
  },
  {
   "cell_type": "code",
   "execution_count": 46,
   "metadata": {},
   "outputs": [
    {
     "data": {
      "image/png": "[encoded data removed]",
      "text/plain": [
       "<Figure size 1200x600 with 2 Axes>"
      ]
     },
     "metadata": {},
     "output_type": "display_data"
    }
   ],
   "source": [
    "# QQ plot of conversion numbers\n",
    "fig, ax = plt.subplots(1, 2, figsize=(12, 6))\n",
    "\n",
    "sms.qqplot(ab_df.loc[ab_df['landing_page'] == 'old_page']['converted'], line='s', ax=ax[0])\n",
    "ax[0].set_title('Old Page Conversion Numbers')\n",
    "\n",
    "sms.qqplot(ab_df.loc[ab_df['landing_page'] == 'new_page']['converted'], line='s', ax=ax[1])\n",
    "ax[1].set_title('New Page Conversion Numbers')\n",
    "\n",
    "plt.tight_layout()\n",
    "plt.show()"
   ]
  },
  {
   "cell_type": "markdown",
   "metadata": {},
   "source": [
    "- **Plot Points**:\n",
    "- - The QQ plot displays the quantiles of your data against the quantiles of a standard normal distribution.\n",
    "- - If the data is normally distributed, the points should fall approximately along a straight line.\n",
    "\n",
    "- **Straight Line**:\n",
    "- - Close to the Line: If the points lie close to the 45-degree reference line (the line of equality), it suggests that the data is approximately normally distributed.\n",
    "- - Deviations from the Line: Significant deviations from the line indicate departures from normality.\n",
    "\n",
    "- **Patterns of Deviation**:\n",
    "- - S-shaped Curve: If the points form an S-shaped curve, it suggests that the data has heavier tails than a normal distribution (leptokurtic).\n",
    "- - Inverted S-shaped Curve: If the points form an inverted S-shaped curve, it suggests that the data has lighter tails than a normal distribution (platykurtic).\n",
    "- - Upward/Downward Curvature: If the points curve upwards or downwards, it suggests skewness in the data. Upward curvature indicates positive skewness, while downward curvature indicates negative skewness."
   ]
  },
  {
   "cell_type": "markdown",
   "metadata": {},
   "source": [
    "# Variance Homogeneity Testing\n",
    "- H0: Variances are homogeneous\n",
    "- H1: Variances are not homogeneous"
   ]
  },
  {
   "cell_type": "markdown",
   "metadata": {},
   "source": [
    "## Levene's test"
   ]
  },
  {
   "cell_type": "code",
   "execution_count": 47,
   "metadata": {},
   "outputs": [
    {
     "name": "stdout",
     "output_type": "stream",
     "text": [
      "Variance Homogeneuous of old page and new page teststat: 1.4267917566652295, p_value: 0.2322897281547632\n",
      "Null hypothesis is not rejected, Variance is homogeneuous\n",
      "Both old and new page conversion numbers have equal variances, use parametric tests\n"
     ]
    }
   ],
   "source": [
    "teststat, p_value = levene(ab_df.loc[ab_df['landing_page'] == 'old_page']['converted'],\n",
    "                            ab_df.loc[ab_df['landing_page'] == 'new_page']['converted'])\n",
    "print(f'Variance Homogeneuous of old page and new page teststat: {teststat}, p_value: {p_value}')\n",
    "\n",
    "if p_value > 0.05:\n",
    "    print('Null hypothesis is not rejected, Variance is homogeneuous')\n",
    "    print('Both old and new page conversion numbers have equal variances, use parametric tests')\n",
    "else:\n",
    "    print('Null hypothesis is rejected, Variance is not homogeneuous')\n",
    "    print('Old and new page conversion numbers do not have equal variances, use non-parametric tests')"
   ]
  },
  {
   "cell_type": "markdown",
   "metadata": {},
   "source": [
    "## Bartlett's Test\n",
    "Data should be normalized, not used here"
   ]
  },
  {
   "cell_type": "code",
   "execution_count": 48,
   "metadata": {},
   "outputs": [],
   "source": [
    "# # Example code\n",
    "# from scipy.stats import bartlett\n",
    "\n",
    "# stat, p_value = bartlett(ab_df.loc[ab_df['landing_page'] == 'old_page']['converted'],\n",
    "#                                ab_df.loc[ab_df['landing_page'] == 'new_page']['converted'])\n",
    "# print(f\"Bartlett's Test: Chi-square statistic = {stat}, p-value = {p_value}\")"
   ]
  },
  {
   "cell_type": "markdown",
   "metadata": {},
   "source": [
    "## Fligner-Killeen Test\n",
    "Data is not normalized, can be used"
   ]
  },
  {
   "cell_type": "code",
   "execution_count": 49,
   "metadata": {},
   "outputs": [
    {
     "name": "stdout",
     "output_type": "stream",
     "text": [
      "Fligner-Killeen Test: Chi-square statistic = 1.426789632614739, p-value = 0.23228908748992913\n",
      "Null hypothesis is not rejected, Variance is homogeneuous\n",
      "Both old and new page conversion numbers have equal variances, use parametric tests\n"
     ]
    }
   ],
   "source": [
    "from scipy.stats import fligner\n",
    "\n",
    "stat, p_value = fligner(ab_df.loc[ab_df['landing_page'] == 'old_page']['converted'],\n",
    "                               ab_df.loc[ab_df['landing_page'] == 'new_page']['converted'])\n",
    "print(f\"Fligner-Killeen Test: Chi-square statistic = {stat}, p-value = {p_value}\")\n",
    "\n",
    "if p_value > 0.05:\n",
    "    print('Null hypothesis is not rejected, Variance is homogeneuous')\n",
    "    print('Both old and new page conversion numbers have equal variances, use parametric tests')\n",
    "else:\n",
    "    print('Null hypothesis is rejected, Variance is not homogeneuous')\n",
    "    print('Old and new page conversion numbers do not have equal variances, use non-parametric tests')"
   ]
  },
  {
   "cell_type": "markdown",
   "metadata": {},
   "source": [
    "## Residual Plot"
   ]
  },
  {
   "cell_type": "code",
   "execution_count": 50,
   "metadata": {},
   "outputs": [
    {
     "data": {
      "image/png": "[encoded data removed]",
      "text/plain": [
       "<Figure size 1200x600 with 2 Axes>"
      ]
     },
     "metadata": {},
     "output_type": "display_data"
    }
   ],
   "source": [
    "# Separate the data for old page and new page\n",
    "old_page_data = ab_df.loc[ab_df['landing_page'] == 'old_page']['converted']\n",
    "new_page_data = ab_df.loc[ab_df['landing_page'] == 'new_page']['converted']\n",
    "\n",
    "# Downsampling the data as the data is too large\n",
    "frac = 0.1\n",
    "old_page_data = old_page_data.sample(frac=frac, random_state=64)\n",
    "new_page_data = new_page_data.sample(frac=frac, random_state=64)\n",
    "\n",
    "# Fit a linear regression model for old page\n",
    "X_old = sms.add_constant(np.arange(len(old_page_data)))  # Adding index as a constant term\n",
    "model_old = sms.OLS(old_page_data, X_old).fit() # Fit the Ordinary Least Squares (OLS) model\n",
    "fitted_values_old = model_old.fittedvalues # Get the fitted values (predictions)\n",
    "residuals_old = model_old.resid # Get the residuals (actual - predictions) (difference between actual and predicted values)\n",
    "\n",
    "# Fit a linear regression model for new page\n",
    "X_new = sms.add_constant(np.arange(len(new_page_data)))\n",
    "model_new = sms.OLS(new_page_data, X_new).fit()\n",
    "fitted_values_new = model_new.fittedvalues\n",
    "residuals_new = model_new.resid\n",
    "\n",
    "# Create residual plots\n",
    "fig, ax = plt.subplots(1, 2, figsize=(12, 6))\n",
    "\n",
    "# Residual plot for old page\n",
    "sns.residplot(x=fitted_values_old, y=residuals_old, lowess=True, ax=ax[0], line_kws={'color': 'red', 'lw': 1})\n",
    "ax[0].axhline(y=0, color='r', linestyle='--')\n",
    "ax[0].set_title('Residual Plot for Old Page')\n",
    "ax[0].set_xlabel('Fitted Values')\n",
    "ax[0].set_ylabel('Residuals')\n",
    "\n",
    "# Residual plot for new page\n",
    "sns.residplot(x=fitted_values_new, y=residuals_new, lowess=True, ax=ax[1], line_kws={'color': 'red', 'lw': 1})\n",
    "ax[1].axhline(y=0, color='r', linestyle='--')\n",
    "ax[1].set_title('Residual Plot for New Page')\n",
    "ax[1].set_xlabel('Fitted Values')\n",
    "ax[1].set_ylabel('Residuals')\n",
    "\n",
    "plt.tight_layout()\n",
    "plt.show()"
   ]
  },
  {
   "cell_type": "markdown",
   "metadata": {},
   "source": [
    "**Blue Points**:\n",
    "- represent the residuals (the differences between the actual values and the predicted values) plotted against the fitted values.\n",
    "- Each blue point corresponds to a single observation in your dataset.\n",
    "\n",
    "**Blue Points with Red Line**:\n",
    "- The red line is a LOWESS (Locally Weighted Scatterplot Smoothing) line, which is a smoothed line that helps to visualize the trend in the residuals.\n",
    "- The blue points with the red line indicate the smoothed trend of the residuals.\n",
    "\n",
    "**How to Assess Equal Variance (Homoscedasticity)**\n",
    "\n",
    "- Random Scatter:\n",
    "If the blue points (residuals) are randomly scattered around the horizontal red line (y=0) without any clear pattern, it suggests that the variances are equal (homoscedasticity).\n",
    "\n",
    "- Patterned Residuals:\n",
    "If the blue points show a pattern (e.g., funnel shape, increasing or decreasing spread), it suggests that the variances are not equal (heteroscedasticity)."
   ]
  },
  {
   "cell_type": "markdown",
   "metadata": {},
   "source": [
    "**Horizontal Red Line** (y=0):\n",
    "- To see if the residuals are centered around zero, indicating that the model's predictions are unbiased.\n",
    "\n",
    "The red line below in the graph is **Lowess Smoothing Line**\n",
    "\n",
    "- This line helps to identify any patterns or systematic deviations in the residuals. If the LOWESS line is approximately horizontal and close to the zero line, it suggests homoscedasticity (equal variances)\n",
    "\n",
    "- If the LOWESS line shows a pattern (e.g., a curve or slope), it suggests heteroscedasticity (unequal variances)."
   ]
  },
  {
   "cell_type": "markdown",
   "metadata": {},
   "source": [
    "Both Lowess lines are almost horizontal, which indicates that the residuals are homoscedastic\n",
    "- Hence, the residuals are homoscedastic\n",
    "- Hence, the variance is homogeneuous"
   ]
  },
  {
   "cell_type": "markdown",
   "metadata": {},
   "source": [
    "# Hypothesis Testing"
   ]
  },
  {
   "cell_type": "markdown",
   "metadata": {},
   "source": [
    "- H0: There is not statistically significant difference between the old page and new page\n",
    "- H1: There is statistically significant difference between the old page and new page\n",
    "<br><br>\n",
    "- Normality: Null hypothesis rejected\n",
    "- Variance Homogeneity: Null hypothesis accepted\n",
    "\n",
    "Since normality and homoscedasticity are not both satisfied at the same time, we will use non-parametric tests"
   ]
  },
  {
   "cell_type": "markdown",
   "metadata": {},
   "source": [
    "## Mann-Whitney U test"
   ]
  },
  {
   "cell_type": "code",
   "execution_count": 51,
   "metadata": {},
   "outputs": [
    {
     "name": "stdout",
     "output_type": "stream",
     "text": [
      "Mann-Whitney U teststat: 10288759668.0, p_value: 0.23228910319572493\n",
      "Null hypothesis is not rejected, both old and new page conversion numbers are equal\n",
      "There is no significant difference between old and new page conversion numbers, the change does not bring significant improvement\n"
     ]
    }
   ],
   "source": [
    "# Mann-Whitney U test\n",
    "teststat, p_value = mannwhitneyu(ab_df.loc[ab_df['landing_page'] == 'old_page']['converted'],\n",
    "                            ab_df.loc[ab_df['landing_page'] == 'new_page']['converted'])\n",
    "print(f'Mann-Whitney U teststat: {teststat}, p_value: {p_value}')\n",
    "\n",
    "if p_value > 0.05:\n",
    "    print('Null hypothesis is not rejected, both old and new page conversion numbers are equal')\n",
    "    print('There is no significant difference between old and new page conversion numbers, the change does not bring significant improvement')\n",
    "else:\n",
    "    print('Null hypothesis is rejected, both old and new page conversion numbers are not equal')\n",
    "    print('There is a significant difference between old and new page conversion numbers, the change brings significant improvement')"
   ]
  },
  {
   "cell_type": "markdown",
   "metadata": {},
   "source": [
    "## Wilcoxon signed-rank test"
   ]
  },
  {
   "cell_type": "code",
   "execution_count": 62,
   "metadata": {},
   "outputs": [
    {
     "name": "stdout",
     "output_type": "stream",
     "text": [
      "Wilcoxon signed-rank teststat: 225958320.0, p_value: 0.2333387042131262\n",
      "There is no statistically significant difference between the old page and new page conversion rates.\n"
     ]
    }
   ],
   "source": [
    "# Wilcoxon signed-rank test\n",
    "from scipy.stats import wilcoxon\n",
    "\n",
    "# Separate the data for old page and new page\n",
    "old_page_data = ab_df.loc[ab_df['landing_page'] == 'old_page']['converted']\n",
    "new_page_data = ab_df.loc[ab_df['landing_page'] == 'new_page']['converted']\n",
    "\n",
    "# Ensure the samples have the same length by taking a random sample of the smaller size\n",
    "min_length = min(len(old_page_data), len(new_page_data))\n",
    "old_page_sample = old_page_data.sample(n=min_length, random_state=1)\n",
    "new_page_sample = new_page_data.sample(n=min_length, random_state=1)\n",
    "\n",
    "# Wilcoxon signed-rank test\n",
    "teststat, p_value = wilcoxon(old_page_sample, new_page_sample)\n",
    "print(f'Wilcoxon signed-rank teststat: {teststat}, p_value: {p_value}')\n",
    "\n",
    "# Interpret the results\n",
    "if p_value < 0.05:\n",
    "    if teststat > 0:\n",
    "        print(\"There is a statistically significant positive difference between the old page and new page conversion rates.\")\n",
    "    elif teststat < 0:\n",
    "        print(\"There is a statistically significant negative difference between the old page and new page conversion rates.\")\n",
    "    else:\n",
    "        print(\"There is no difference between the old page and new page conversion rates.\")\n",
    "else:\n",
    "    print(\"There is no statistically significant difference between the old page and new page conversion rates.\")"
   ]
  },
  {
   "cell_type": "markdown",
   "metadata": {},
   "source": [
    "## Kruskal-Wallis H test"
   ]
  },
  {
   "cell_type": "code",
   "execution_count": 61,
   "metadata": {},
   "outputs": [
    {
     "name": "stdout",
     "output_type": "stream",
     "text": [
      "Kruskal-Wallis H teststat: 1.4267896325324378, p_value: 0.23228908750339744\n",
      "There is no statistically significant difference between the old page and new page conversion rates.\n"
     ]
    }
   ],
   "source": [
    "from scipy.stats import kruskal\n",
    "\n",
    "# Separate the data for old page and new page\n",
    "old_page_data = ab_df.loc[ab_df['landing_page'] == 'old_page']['converted']\n",
    "new_page_data = ab_df.loc[ab_df['landing_page'] == 'new_page']['converted']\n",
    "\n",
    "# Kruskal-Wallis H test\n",
    "h_stat, p_value = kruskal(old_page_data, new_page_data)\n",
    "print(f'Kruskal-Wallis H teststat: {h_stat}, p_value: {p_value}')\n",
    "\n",
    "# Interpret the results\n",
    "if p_value < 0.05:\n",
    "    print(\"There is a statistically significant difference between the old page and new page conversion rates.\")\n",
    "else:\n",
    "    print(\"There is no statistically significant difference between the old page and new page conversion rates.\")"
   ]
  },
  {
   "cell_type": "markdown",
   "metadata": {},
   "source": [
    "## Friedman test"
   ]
  },
  {
   "cell_type": "markdown",
   "metadata": {},
   "source": [
    "The Friedman test is used to compare the distributions of three or more related groups. It is particularly useful when you have repeated measures or matched groups. If you only have two groups, you should use the Wilcoxon signed-rank test instead."
   ]
  },
  {
   "cell_type": "markdown",
   "metadata": {},
   "source": [
    "## Spearman's Rank Correlation"
   ]
  },
  {
   "cell_type": "code",
   "execution_count": 59,
   "metadata": {},
   "outputs": [
    {
     "name": "stdout",
     "output_type": "stream",
     "text": [
      "Spearman's Rank Correlation: -0.0007636346059376669, p-value: 0.7725322208533001\n",
      "There is no statistically significant correlation between the old page and new page conversion rates.\n"
     ]
    }
   ],
   "source": [
    "import pandas as pd\n",
    "from scipy.stats import spearmanr\n",
    "\n",
    "# Separate the data for old page and new page\n",
    "old_page_data = ab_df.loc[ab_df['landing_page'] == 'old_page']['converted']\n",
    "new_page_data = ab_df.loc[ab_df['landing_page'] == 'new_page']['converted']\n",
    "\n",
    "# Ensure the samples have the same length by taking a random sample of the smaller size\n",
    "min_length = min(len(old_page_data), len(new_page_data))\n",
    "old_page_sample = old_page_data.sample(n=min_length, random_state=1)\n",
    "new_page_sample = new_page_data.sample(n=min_length, random_state=1)\n",
    "\n",
    "# Calculate Spearman's Rank Correlation\n",
    "corr, p_value = spearmanr(old_page_sample, new_page_sample)\n",
    "\n",
    "# Print the correlation coefficient and p-value\n",
    "print(f\"Spearman's Rank Correlation: {corr}, p-value: {p_value}\")\n",
    "\n",
    "# Interpret the results\n",
    "if p_value < 0.05:\n",
    "    if corr > 0:\n",
    "        print(\"There is a statistically significant positive correlation between the old page and new page conversion rates.\")\n",
    "    elif corr < 0:\n",
    "        print(\"There is a statistically significant negative correlation between the old page and new page conversion rates.\")\n",
    "    else:\n",
    "        print(\"There is no correlation between the old page and new page conversion rates.\")\n",
    "else:\n",
    "    print(\"There is no statistically significant correlation between the old page and new page conversion rates.\")"
   ]
  },
  {
   "cell_type": "markdown",
   "metadata": {},
   "source": [
    "# Conclusion"
   ]
  },
  {
   "cell_type": "markdown",
   "metadata": {},
   "source": [
    "There is no statistically significant correlation between the old page and new page conversion rates."
   ]
  }
 ],
 "metadata": {
  "kernelspec": {
   "display_name": "Python 3",
   "language": "python",
   "name": "python3"
  },
  "language_info": {
   "codemirror_mode": {
    "name": "ipython",
    "version": 3
   },
   "file_extension": ".py",
   "mimetype": "text/x-python",
   "name": "python",
   "nbconvert_exporter": "python",
   "pygments_lexer": "ipython3",
   "version": "3.11.7"
  }
 },
 "nbformat": 4,
 "nbformat_minor": 2
}
